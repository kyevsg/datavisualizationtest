{
 "cells": [
  {
   "cell_type": "markdown",
   "metadata": {},
   "source": [
    "# Part B: Algorithmics / Quality of Programming\n",
    "\n",
    "#### Author: Kye Stapleton-Gray\n",
    "#### Date: 9/20/2021\n",
    "\n",
    "The purpose of this notebook is to demonstrate a function that partitions data sets from CFU growth curves. The function partitions the data from the curve into two phases; a lag phase and an exponential growth phase. The phases from the the intial list are represented as two new lists. A demonstration of the function is also performed on a test set of data."
   ]
  },
  {
   "cell_type": "markdown",
   "metadata": {},
   "source": [
    "### Prompt"
   ]
  },
  {
   "cell_type": "markdown",
   "metadata": {},
   "source": [
    "The first range should contain all measurements before exponential growth has started, while the second one should include all other measurements. Write a function partition(x) that takes a list of integers as an input and makes one cut to split it into two ranges, returning two lists. All values in the first range should be smaller than those in the second range and the first range should be as short as possible. For instance, if the input is x = [1,2,1,3,4,0,2,3,4,5,6,10,15,20,21,22,23], partition(x) should return [1,2,1,3,4,0,2,3,4] and [5,6,10,15,20,21,22,23]."
   ]
  },
  {
   "cell_type": "markdown",
   "metadata": {},
   "source": [
    "### Function"
   ]
  },
  {
   "cell_type": "markdown",
   "metadata": {},
   "source": [
    "#### Overall Solution:\n",
    "Essentially, the function needs to find the smallest number that is bigger than all the numbers before it and has all of the numbers after it increasing. This second part can be confirmed by checking that the part of the list containing and following the number is sorted. This first part can be confirmed by comparing the potential number to each number in the list of values preceding it."
   ]
  },
  {
   "cell_type": "code",
   "execution_count": 70,
   "metadata": {},
   "outputs": [],
   "source": [
    "#defining a helper function, check, which takes two values (an integer and a list)\n",
    "def check(num, lst):\n",
    "    for n in lst: #iterating over values in the list\n",
    "        if n >= num: #if the integer given is smaller than any of the values in the list then:\n",
    "            return False #the function returns False\n",
    "    return True #otherwise the function returns True\n",
    "\n",
    "#the helper function will return True if the number given is greater than all of the values in the list given"
   ]
  },
  {
   "cell_type": "code",
   "execution_count": 71,
   "metadata": {},
   "outputs": [],
   "source": [
    "#defining the main partition function\n",
    "#input for the function is x, a list of numerical values\n",
    "def partition(x):\n",
    "    lag = [] #creating an empty list for the lag phase values\n",
    "    exp = [] #creating an empty list for the exponential phase values\n",
    "    for i in range(0, len(x)): #iterating over the values in the list x\n",
    "        if sorted(x[i:]) == x[i:] and check(x[i], x[:i]): #checking if both if the part of the list containing and following the number is sorted, and that the helper function for the number the the list of values preceding it returns True\n",
    "            for j in x[:i]:\n",
    "                lag.append(j) #adds the values before the break point to lag phase value list\n",
    "            for k in x[i:]:\n",
    "                exp.append(k) #adds the values including and after the break point to exponential phase value list\n",
    "            break\n",
    "    print(\"The lag phase values are \" + str(lag)) #prints the list of lag phase values\n",
    "    print(\"The exponential phase values are \" + str(exp)) #prints the list of exponential phase values"
   ]
  },
  {
   "cell_type": "markdown",
   "metadata": {},
   "source": [
    "### Demonstration"
   ]
  },
  {
   "cell_type": "code",
   "execution_count": 68,
   "metadata": {},
   "outputs": [],
   "source": [
    "#test data input is the list x from the candidate test document\n",
    "test_data = [1,2,1,3,4,0,2,3,4,5,6,10,15,20,21,22,23]"
   ]
  },
  {
   "cell_type": "code",
   "execution_count": 72,
   "metadata": {
    "scrolled": true
   },
   "outputs": [
    {
     "name": "stdout",
     "output_type": "stream",
     "text": [
      "The lag phase values are [1, 2, 1, 3, 4, 0, 2, 3, 4]\n",
      "The exponential phase values are [5, 6, 10, 15, 20, 21, 22, 23]\n"
     ]
    }
   ],
   "source": [
    "#running the function with the test data\n",
    "partition(test_data)"
   ]
  },
  {
   "cell_type": "markdown",
   "metadata": {},
   "source": [
    "In order to test the function on a different set of data, define a list of values with your data and pass the list through the partition function."
   ]
  }
 ],
 "metadata": {
  "kernelspec": {
   "display_name": "Python 3",
   "language": "python",
   "name": "python3"
  },
  "language_info": {
   "codemirror_mode": {
    "name": "ipython",
    "version": 3
   },
   "file_extension": ".py",
   "mimetype": "text/x-python",
   "name": "python",
   "nbconvert_exporter": "python",
   "pygments_lexer": "ipython3",
   "version": "3.8.3"
  }
 },
 "nbformat": 4,
 "nbformat_minor": 4
}
